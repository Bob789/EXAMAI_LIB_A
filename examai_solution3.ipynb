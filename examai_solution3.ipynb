{
 "cells": [
  {
   "cell_type": "markdown",
   "id": "2372ea75",
   "metadata": {},
   "source": [
    "שאלות אמריקאיות\n",
    "\n",
    "1.   מוחקת שורות שמיכילות ערכים חסרים (NaN)\n",
    "2.   מחזיר את מס' הערכים השונים DF['city'].unique() -- מחזיר ערכים שונים\n",
    "3.   מחליף את ערכי העמודה gender לפי מפת המרה\n",
    "4.   בוחר 5 שורות אקראיות מהטבלה\n",
    "5.   ממלא את כל הערכים החסים בעמודה score עם 0\n",
    "6.   מוחקת שורות כפולות בטבלה\n",
    "7.   מחזיר את 3 הערכים הגדולים ביותר מעמודת price\n",
    "8.   מחזיר את מס' ההופעות של כל ערך בעמודה\n",
    "9.   יוצר סידרה של בוליאנית True/False לפי תנאי\n",
    "10.  מחלק את העמודה לפי קטגוריה ומחשב ממוצע לפי עמודות מספריות\n",
    "\n"
   ]
  }
 ],
 "metadata": {
  "kernelspec": {
   "display_name": "base",
   "language": "python",
   "name": "python3"
  },
  "language_info": {
   "codemirror_mode": {
    "name": "ipython",
    "version": 3
   },
   "file_extension": ".py",
   "mimetype": "text/x-python",
   "name": "python",
   "nbconvert_exporter": "python",
   "pygments_lexer": "ipython3",
   "version": "3.12.7"
  }
 },
 "nbformat": 4,
 "nbformat_minor": 5
}
